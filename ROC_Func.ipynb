{
 "cells": [
  {
   "cell_type": "code",
   "execution_count": 6,
   "metadata": {},
   "outputs": [],
   "source": [
    "import pandas as pd\n",
    "import numpy as np\n",
    "import matplotlib.pyplot as plt\n",
    "\n",
    "# Put in the path of the file and column names\n",
    "path = r'C:\\Users\\Admin\\Desktop\\Model_Result.csv'\n",
    "score_name = 'Score'\n",
    "target_name = 'G_B'\n",
    "deal_num = 'dealno'\n",
    "\n",
    "# Function Definition. Don't Change!\n",
    "def roc_calc(path,score_name,target_name,deal_num):\n",
    "    df = pd.read_csv(path)\n",
    "    df = df[df[target_name]!='INDET']\n",
    "    piv = df.pivot_table(deal_num,index=score_name,columns=target_name,aggfunc=len)\n",
    "    piv = piv.sort_index()\n",
    "    piv = piv.fillna(0)\n",
    "    piv['Bad%'] = (piv.BAD.cumsum(axis=0))/(piv.BAD.sum())\n",
    "    piv['Good%'] = (piv.GOOD.cumsum(axis=0))/(piv.GOOD.sum())\n",
    "    piv = piv.reset_index()\n",
    "    roc = 0\n",
    "    for i in range(len(piv)-1):\n",
    "        roc += (piv['Good%'].iloc[i+1] - piv['Good%'].iloc[i]) * (piv['Bad%'].iloc[i+1] + piv['Bad%'].iloc[i])\n",
    "    return roc*0.5\n",
    "\n",
    "def roc_plot(path,score_name,target_name,deal_num):\n",
    "    df = pd.read_csv(path)\n",
    "    df = df[df[target_name]!='INDET']\n",
    "    piv = df.pivot_table(deal_num,index=score_name,columns=target_name,aggfunc=len)\n",
    "    piv = piv.sort_index()\n",
    "    piv = piv.fillna(0)\n",
    "    piv['Bad%'] = (piv.BAD.cumsum(axis=0))/(piv.BAD.sum())\n",
    "    piv['Good%'] = (piv.GOOD.cumsum(axis=0))/(piv.GOOD.sum())\n",
    "    piv = piv.reset_index()\n",
    "    roc = 0\n",
    "    for i in range(len(piv)-1):\n",
    "        roc += (piv['Good%'].iloc[i+1] - piv['Good%'].iloc[i]) * (piv['Bad%'].iloc[i+1] + piv['Bad%'].iloc[i])\n",
    "    roc *= 0.5\n",
    "    fig = plt.figure(figsize=(6,6))\n",
    "    plt.plot(piv['Good%'], piv['Bad%'], lw=2)\n",
    "    plt.xlim(-0.1,1.1)\n",
    "    plt.ylim(-0.1,1.1)\n",
    "    plt.xlabel('$Goods$')\n",
    "    plt.ylabel('$Bads$')\n",
    "    plt.grid()\n",
    "    plt.title('ROC curve, ROC = %.4f'%roc)\n",
    "    return plt"
   ]
  },
  {
   "cell_type": "code",
   "execution_count": 3,
   "metadata": {},
   "outputs": [
    {
     "data": {
      "text/plain": [
       "0.7130681818181818"
      ]
     },
     "execution_count": 3,
     "metadata": {},
     "output_type": "execute_result"
    }
   ],
   "source": [
    "roc_calc(path,score_name,target_name,deal_num)"
   ]
  },
  {
   "cell_type": "code",
   "execution_count": 7,
   "metadata": {},
   "outputs": [
    {
     "data": {
      "text/plain": [
       "<module 'matplotlib.pyplot' from 'C:\\\\Users\\\\Admin\\\\anaconda3\\\\lib\\\\site-packages\\\\matplotlib\\\\pyplot.py'>"
      ]
     },
     "execution_count": 7,
     "metadata": {},
     "output_type": "execute_result"
    },
    {
     "data": {
      "image/png": "[encoded data removed]",
      "text/plain": [
       "<Figure size 432x432 with 1 Axes>"
      ]
     },
     "metadata": {
      "needs_background": "light"
     },
     "output_type": "display_data"
    }
   ],
   "source": [
    "roc_plot(path,score_name,target_name,deal_num)"
   ]
  },
  {
   "cell_type": "code",
   "execution_count": null,
   "metadata": {},
   "outputs": [],
   "source": []
  }
 ],
 "metadata": {
  "kernelspec": {
   "display_name": "Python 3",
   "language": "python",
   "name": "python3"
  },
  "language_info": {
   "codemirror_mode": {
    "name": "ipython",
    "version": 3
   },
   "file_extension": ".py",
   "mimetype": "text/x-python",
   "name": "python",
   "nbconvert_exporter": "python",
   "pygments_lexer": "ipython3",
   "version": "3.8.5"
  }
 },
 "nbformat": 4,
 "nbformat_minor": 4
}
